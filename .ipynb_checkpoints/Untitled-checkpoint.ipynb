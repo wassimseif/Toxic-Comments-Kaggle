{
 "cells": [
  {
   "cell_type": "code",
   "execution_count": 1,
   "metadata": {
    "collapsed": true
   },
   "outputs": [
    {
     "name": "stdout",
     "output_type": "stream",
     "text": [
      "Collecting gensim\r\n",
      "  Downloading gensim-3.4.0-cp36-cp36m-macosx_10_6_intel.macosx_10_9_intel.macosx_10_9_x86_64.macosx_10_10_intel.macosx_10_10_x86_64.whl (22.8MB)\r\n",
      "\u001b[?25l\r",
      "\u001b[K    0% |                                | 10kB 44kB/s eta 0:08:38\r",
      "\u001b[K    0% |                                | 20kB 85kB/s eta 0:04:27\r",
      "\u001b[K    0% |                                | 30kB 105kB/s eta 0:03:36\r",
      "\u001b[K    0% |                                | 40kB 118kB/s eta 0:03:13\r",
      "\u001b[K    0% |                                | 51kB 148kB/s eta 0:02:34\r",
      "\u001b[K    0% |                                | 61kB 174kB/s eta 0:02:11\r",
      "\u001b[K    0% |                                | 71kB 203kB/s eta 0:01:52\r",
      "\u001b[K    0% |▏                               | 81kB 196kB/s eta 0:01:56\r",
      "\u001b[K    0% |▏                               | 92kB 205kB/s eta 0:01:51\r",
      "\u001b[K    0% |▏                               | 102kB 227kB/s eta 0:01:40\r",
      "\u001b[K    0% |▏                               | 112kB 439kB/s eta 0:00:52\r",
      "\u001b[K    0% |▏                               | 122kB 411kB/s eta 0:00:56\r",
      "\u001b[K    0% |▏                               | 133kB 519kB/s eta 0:00:44\r",
      "\u001b[K    0% |▏                               | 143kB 644kB/s eta 0:00:36\r",
      "\u001b[K    0% |▏                               | 153kB 644kB/s eta 0:00:36\r",
      "\u001b[K    0% |▎                               | 163kB 602kB/s eta 0:00:38\r",
      "\u001b[K    0% |▎                               | 174kB 372kB/s eta 0:01:01\r",
      "\u001b[K    0% |▎                               | 184kB 487kB/s eta 0:00:47\r",
      "\u001b[K    0% |▎                               | 194kB 470kB/s eta 0:00:49\r",
      "\u001b[K    0% |▎                               | 204kB 456kB/s eta 0:00:50\r",
      "\u001b[K    0% |▎                               | 215kB 490kB/s eta 0:00:47\r",
      "\u001b[K    0% |▎                               | 225kB 537kB/s eta 0:00:43\r",
      "\u001b[K    1% |▎                               | 235kB 537kB/s eta 0:00:43\r",
      "\u001b[K    1% |▍                               | 245kB 567kB/s eta 0:00:40\r",
      "\u001b[K    1% |▍                               | 256kB 533kB/s eta 0:00:43\r",
      "\u001b[K    1% |▍                               | 266kB 586kB/s eta 0:00:39\r",
      "\u001b[K    1% |▍                               | 276kB 1.3MB/s eta 0:00:18\r",
      "\u001b[K    1% |▍                               | 286kB 680kB/s eta 0:00:34\r",
      "\u001b[K    1% |▍                               | 296kB 921kB/s eta 0:00:25\r",
      "\u001b[K    1% |▍                               | 307kB 915kB/s eta 0:00:25\r",
      "\u001b[K    1% |▌                               | 317kB 916kB/s eta 0:00:25\r",
      "\u001b[K    1% |▌                               | 327kB 868kB/s eta 0:00:26\r",
      "\u001b[K    1% |▌                               | 337kB 764kB/s eta 0:00:30\r",
      "\u001b[K    1% |▌                               | 348kB 801kB/s eta 0:00:29\r",
      "\u001b[K    1% |▌                               | 358kB 790kB/s eta 0:00:29\r",
      "\u001b[K    1% |▌                               | 368kB 711kB/s eta 0:00:32\r",
      "\u001b[K    1% |▌                               | 378kB 771kB/s eta 0:00:30\r",
      "\u001b[K    1% |▌                               | 389kB 1.3MB/s eta 0:00:18\r",
      "\u001b[K    1% |▋                               | 399kB 1.3MB/s eta 0:00:18\r",
      "\u001b[K    1% |▋                               | 409kB 1.1MB/s eta 0:00:20\r",
      "\u001b[K    1% |▋                               | 419kB 1.0MB/s eta 0:00:22\r",
      "\u001b[K    1% |▋                               | 430kB 1.2MB/s eta 0:00:20\r",
      "\u001b[K    1% |▋                               | 440kB 1.2MB/s eta 0:00:19\r",
      "\u001b[K    1% |▋                               | 450kB 1.1MB/s eta 0:00:22\r",
      "\u001b[K    2% |▋                               | 460kB 1.2MB/s eta 0:00:19\r",
      "\u001b[K    2% |▋                               | 471kB 1.3MB/s eta 0:00:18\r",
      "\u001b[K    2% |▊                               | 481kB 1.3MB/s eta 0:00:18\r",
      "\u001b[K    2% |▊                               | 491kB 1.3MB/s eta 0:00:17\r",
      "\u001b[K    2% |▊                               | 501kB 1.2MB/s eta 0:00:20\r",
      "\u001b[K    2% |▊                               | 512kB 1.5MB/s eta 0:00:16\r",
      "\u001b[K    2% |▊                               | 522kB 1.3MB/s eta 0:00:18\r",
      "\u001b[K    2% |▊                               | 532kB 1.1MB/s eta 0:00:20\r",
      "\u001b[K    2% |▊                               | 542kB 1.3MB/s eta 0:00:17\r",
      "\u001b[K    2% |▊                               | 552kB 1.3MB/s eta 0:00:17\r",
      "\u001b[K    2% |▉                               | 563kB 1.3MB/s eta 0:00:17\r",
      "\u001b[K    2% |▉                               | 573kB 1.3MB/s eta 0:00:18\r",
      "\u001b[K    2% |▉                               | 583kB 1.2MB/s eta 0:00:19\r",
      "\u001b[K    2% |▉                               | 593kB 1.3MB/s eta 0:00:17\r",
      "\u001b[K    2% |▉                               | 604kB 1.3MB/s eta 0:00:18\r",
      "\u001b[K    2% |▉                               | 614kB 1.2MB/s eta 0:00:19\r",
      "\u001b[K    2% |▉                               | 624kB 1.6MB/s eta 0:00:15\r",
      "\u001b[K    2% |█                               | 634kB 1.5MB/s eta 0:00:15\r",
      "\u001b[K    2% |█                               | 645kB 1.5MB/s eta 0:00:15\r",
      "\u001b[K    2% |█                               | 655kB 351kB/s eta 0:01:04\r",
      "\u001b[K    2% |█                               | 665kB 345kB/s eta 0:01:05\r",
      "\u001b[K    2% |█                               | 675kB 361kB/s eta 0:01:02\r",
      "\u001b[K    3% |█                               | 686kB 363kB/s eta 0:01:01\r",
      "\u001b[K    3% |█                               | 696kB 354kB/s eta 0:01:03\r",
      "\u001b[K    3% |█                               | 706kB 373kB/s eta 0:01:00\r",
      "\u001b[K    3% |█                               | 716kB 366kB/s eta 0:01:01\r",
      "\u001b[K    3% |█                               | 727kB 365kB/s eta 0:01:01\r",
      "\u001b[K    3% |█                               | 737kB 371kB/s eta 0:01:00\r",
      "\u001b[K    3% |█                               | 747kB 362kB/s eta 0:01:01\r",
      "\u001b[K    3% |█                               | 757kB 2.2MB/s eta 0:00:11\r",
      "\u001b[K    3% |█                               | 768kB 2.0MB/s eta 0:00:11\r",
      "\u001b[K    3% |█                               | 778kB 1.2MB/s eta 0:00:18\r",
      "\u001b[K    3% |█                               | 788kB 1.3MB/s eta 0:00:17\r",
      "\u001b[K    3% |█▏                              | 798kB 1.1MB/s eta 0:00:21\r",
      "\u001b[K    3% |█▏                              | 808kB 1.1MB/s eta 0:00:21\r",
      "\u001b[K    3% |█▏                              | 819kB 706kB/s eta 0:00:32\r",
      "\u001b[K    3% |█▏                              | 829kB 650kB/s eta 0:00:34\r",
      "\u001b[K    3% |█▏                              | 839kB 686kB/s eta 0:00:33\r",
      "\u001b[K    3% |█▏                              | 849kB 674kB/s eta 0:00:33\r",
      "\u001b[K    3% |█▏                              | 860kB 620kB/s eta 0:00:36\r",
      "\u001b[K    3% |█▏                              | 870kB 651kB/s eta 0:00:34\r",
      "\u001b[K    3% |█▎                              | 880kB 736kB/s eta 0:00:30\r",
      "\u001b[K    3% |█▎                              | 890kB 736kB/s eta 0:00:30\r",
      "\u001b[K    3% |█▎                              | 901kB 831kB/s eta 0:00:27\r",
      "\u001b[K    3% |█▎                              | 911kB 748kB/s eta 0:00:30\r",
      "\u001b[K    4% |█▎                              | 921kB 1.3MB/s eta 0:00:17\r",
      "\u001b[K    4% |█▎                              | 931kB 998kB/s eta 0:00:22\r",
      "\u001b[K    4% |█▎                              | 942kB 929kB/s eta 0:00:24\r",
      "\u001b[K    4% |█▍                              | 952kB 1.0MB/s eta 0:00:22\r",
      "\u001b[K    4% |█▍                              | 962kB 552kB/s eta 0:00:40\r",
      "\u001b[K    4% |█▍                              | 972kB 552kB/s eta 0:00:40\r",
      "\u001b[K    4% |█▍                              | 983kB 561kB/s eta 0:00:39\r",
      "\u001b[K    4% |█▍                              | 993kB 532kB/s eta 0:00:41\r",
      "\u001b[K    4% |█▍                              | 1.0MB 568kB/s eta 0:00:39\r",
      "\u001b[K    4% |█▍                              | 1.0MB 579kB/s eta 0:00:38\r",
      "\u001b[K    4% |█▍                              | 1.0MB 535kB/s eta 0:00:41\r",
      "\u001b[K    4% |█▌                              | 1.0MB 667kB/s eta 0:00:33\r",
      "\u001b[K    4% |█▌                              | 1.0MB 669kB/s eta 0:00:33\r",
      "\u001b[K    4% |█▌                              | 1.1MB 669kB/s eta 0:00:33\r",
      "\u001b[K    4% |█▌                              | 1.1MB 1.6MB/s eta 0:00:14\r",
      "\u001b[K    4% |█▌                              | 1.1MB 1.3MB/s eta 0:00:17\r",
      "\u001b[K    4% |█▌                              | 1.1MB 1.6MB/s eta 0:00:14\r",
      "\u001b[K    4% |█▌                              | 1.1MB 1.5MB/s eta 0:00:15\r",
      "\u001b[K    4% |█▌                              | 1.1MB 1.2MB/s eta 0:00:19\r",
      "\u001b[K    4% |█▋                              | 1.1MB 1.3MB/s eta 0:00:17\r",
      "\u001b[K    4% |█▋                              | 1.1MB 1.2MB/s eta 0:00:18\r",
      "\u001b[K    4% |█▋                              | 1.1MB 1.2MB/s eta 0:00:18\r",
      "\u001b[K    5% |█▋                              | 1.1MB 1.1MB/s eta 0:00:21\r",
      "\u001b[K    5% |█▋                              | 1.2MB 883kB/s eta 0:00:25\r",
      "\u001b[K    5% |█▋                              | 1.2MB 945kB/s eta 0:00:23\r",
      "\u001b[K    5% |█▋                              | 1.2MB 950kB/s eta 0:00:23\r",
      "\u001b[K    5% |█▋                              | 1.2MB 885kB/s eta 0:00:25\r",
      "\u001b[K    5% |█▊                              | 1.2MB 978kB/s eta 0:00:23\r",
      "\u001b[K    5% |█▊                              | 1.2MB 833kB/s eta 0:00:26\r",
      "\u001b[K    5% |█▊                              | 1.2MB 833kB/s eta 0:00:26\r",
      "\u001b[K    5% |█▊                              | 1.2MB 937kB/s eta 0:00:24\r",
      "\u001b[K    5% |█▊                              | 1.2MB 863kB/s eta 0:00:25\r",
      "\u001b[K    5% |█▊                              | 1.2MB 1.0MB/s eta 0:00:21\r",
      "\u001b[K    5% |█▊                              | 1.3MB 1.2MB/s eta 0:00:18\r",
      "\u001b[K    5% |█▉                              | 1.3MB 1.1MB/s eta 0:00:20\r",
      "\u001b[K    5% |█▉                              | 1.3MB 1.3MB/s eta 0:00:17\r",
      "\u001b[K    5% |█▉                              | 1.3MB 1.4MB/s eta 0:00:16\r",
      "\u001b[K    5% |█▉                              | 1.3MB 1.4MB/s eta 0:00:16\r",
      "\u001b[K    5% |█▉                              | 1.3MB 2.1MB/s eta 0:00:11\r",
      "\u001b[K    5% |█▉                              | 1.3MB 1.7MB/s eta 0:00:13\r",
      "\u001b[K    5% |█▉                              | 1.3MB 2.0MB/s eta 0:00:11\r",
      "\u001b[K    5% |█▉                              | 1.3MB 1.6MB/s eta 0:00:14\r",
      "\u001b[K    5% |██                              | 1.4MB 1.4MB/s eta 0:00:16\r",
      "\u001b[K    5% |██                              | 1.4MB 1.5MB/s eta 0:00:14\r",
      "\u001b[K    6% |██                              | 1.4MB 1.4MB/s eta 0:00:15\r",
      "\u001b[K    6% |██                              | 1.4MB 1.4MB/s eta 0:00:16\r",
      "\u001b[K    6% |██                              | 1.4MB 1.3MB/s eta 0:00:17\r",
      "\u001b[K    6% |██                              | 1.4MB 1.2MB/s eta 0:00:19\r",
      "\u001b[K    6% |██                              | 1.4MB 1.4MB/s eta 0:00:16\r",
      "\u001b[K    6% |██                              | 1.4MB 1.4MB/s eta 0:00:15\r",
      "\u001b[K    6% |██                              | 1.4MB 1.2MB/s eta 0:00:18\r",
      "\u001b[K    6% |██                              | 1.4MB 1.6MB/s eta 0:00:14\r",
      "\u001b[K    6% |██                              | 1.5MB 1.5MB/s eta 0:00:15\r",
      "\u001b[K    6% |██                              | 1.5MB 1.5MB/s eta 0:00:15\r",
      "\u001b[K    6% |██                              | 1.5MB 1.6MB/s eta 0:00:14\r",
      "\u001b[K    6% |██                              | 1.5MB 1.3MB/s eta 0:00:17\r",
      "\u001b[K    6% |██                              | 1.5MB 1.6MB/s eta 0:00:14\r",
      "\u001b[K    6% |██                              | 1.5MB 1.6MB/s eta 0:00:14\r",
      "\u001b[K    6% |██▏                             | 1.5MB 242kB/s eta 0:01:28\r",
      "\u001b[K    6% |██▏                             | 1.5MB 247kB/s eta 0:01:27\r",
      "\u001b[K    6% |██▏                             | 1.5MB 255kB/s eta 0:01:24\r",
      "\u001b[K    6% |██▏                             | 1.5MB 255kB/s eta 0:01:24\r",
      "\u001b[K    6% |██▏                             | 1.6MB 263kB/s eta 0:01:21\r",
      "\u001b[K    6% |██▏                             | 1.6MB 263kB/s eta 0:01:21\r",
      "\u001b[K    6% |██▏                             | 1.6MB 270kB/s eta 0:01:19\r",
      "\u001b[K    6% |██▎                             | 1.6MB 279kB/s eta 0:01:16\r",
      "\u001b[K    6% |██▎                             | 1.6MB 279kB/s eta 0:01:16\r",
      "\u001b[K    7% |██▎                             | 1.6MB 285kB/s eta 0:01:15\r",
      "\u001b[K    7% |██▎                             | 1.6MB 69.4MB/s eta 0:00:01\r",
      "\u001b[K    7% |██▎                             | 1.6MB 72.8MB/s eta 0:00:01\r",
      "\u001b[K    7% |██▎                             | 1.6MB 72.0MB/s eta 0:00:01\r",
      "\u001b[K    7% |██▎                             | 1.6MB 71.7MB/s eta 0:00:01\r",
      "\u001b[K    7% |██▎                             | 1.7MB 72.5MB/s eta 0:00:01\r",
      "\u001b[K    7% |██▍                             | 1.7MB 73.7MB/s eta 0:00:01\r",
      "\u001b[K    7% |██▍                             | 1.7MB 10.5MB/s eta 0:00:03\r",
      "\u001b[K    7% |██▍                             | 1.7MB 10.4MB/s eta 0:00:03\r",
      "\u001b[K    7% |██▍                             | 1.7MB 2.9MB/s eta 0:00:08\r",
      "\u001b[K    7% |██▍                             | 1.7MB 2.9MB/s eta 0:00:08\r",
      "\u001b[K    7% |██▍                             | 1.7MB 1.6MB/s eta 0:00:13\r",
      "\u001b[K    7% |██▍                             | 1.7MB 1.1MB/s eta 0:00:19\r",
      "\u001b[K    7% |██▍                             | 1.7MB 1.1MB/s eta 0:00:19\r",
      "\u001b[K    7% |██▌                             | 1.8MB 917kB/s eta 0:00:23\r",
      "\u001b[K    7% |██▌                             | 1.8MB 755kB/s eta 0:00:28\r",
      "\u001b[K    7% |██▌                             | 1.8MB 755kB/s eta 0:00:28\r",
      "\u001b[K    7% |██▌                             | 1.8MB 665kB/s eta 0:00:32\r",
      "\u001b[K    7% |██▌                             | 1.8MB 665kB/s eta 0:00:32\r",
      "\u001b[K    7% |██▌                             | 1.8MB 432kB/s eta 0:00:49\r",
      "\u001b[K    7% |██▌                             | 1.8MB 414kB/s eta 0:00:51\r",
      "\u001b[K    7% |██▌                             | 1.8MB 466kB/s eta 0:00:45\r",
      "\u001b[K    8% |██▋                             | 1.8MB 508kB/s eta 0:00:42\r",
      "\u001b[K    8% |██▋                             | 1.8MB 480kB/s eta 0:00:44\r",
      "\u001b[K    8% |██▋                             | 1.9MB 533kB/s eta 0:00:40\r",
      "\u001b[K    8% |██▋                             | 1.9MB 586kB/s eta 0:00:36\r",
      "\u001b[K    8% |██▋                             | 1.9MB 586kB/s eta 0:00:36\r",
      "\u001b[K    8% |██▋                             | 1.9MB 664kB/s eta 0:00:32\r",
      "\u001b[K    8% |██▋                             | 1.9MB 625kB/s eta 0:00:34\r",
      "\u001b[K    8% |██▊                             | 1.9MB 1.8MB/s eta 0:00:12\r",
      "\u001b[K    8% |██▊                             | 1.9MB 598kB/s eta 0:00:35\r",
      "\u001b[K    8% |██▊                             | 1.9MB 597kB/s eta 0:00:35\r",
      "\u001b[K    8% |██▊                             | 1.9MB 632kB/s eta 0:00:34\r",
      "\u001b[K    8% |██▊                             | 1.9MB 682kB/s eta 0:00:31\r",
      "\u001b[K    8% |██▊                             | 2.0MB 683kB/s eta 0:00:31\r",
      "\u001b[K    8% |██▊                             | 2.0MB 712kB/s eta 0:00:30\r",
      "\u001b[K    8% |██▊                             | 2.0MB 713kB/s eta 0:00:30\r",
      "\u001b[K    8% |██▉                             | 2.0MB 746kB/s eta 0:00:28\r",
      "\u001b[K    8% |██▉                             | 2.0MB 766kB/s eta 0:00:28\r",
      "\u001b[K    8% |██▉                             | 2.0MB 688kB/s eta 0:00:31\r",
      "\u001b[K    8% |██▉                             | 2.0MB 4.4MB/s eta 0:00:05\r",
      "\u001b[K    8% |██▉                             | 2.0MB 2.5MB/s eta 0:00:09\r",
      "\u001b[K    8% |██▉                             | 2.0MB 2.5MB/s eta 0:00:09\r",
      "\u001b[K    8% |██▉                             | 2.0MB 1.7MB/s eta 0:00:13\r",
      "\u001b[K    9% |██▉                             | 2.1MB 1.3MB/s eta 0:00:17\r",
      "\u001b[K    9% |███                             | 2.1MB 1.3MB/s eta 0:00:17\r",
      "\u001b[K    9% |███                             | 2.1MB 1.1MB/s eta 0:00:20\r",
      "\u001b[K    9% |███                             | 2.1MB 924kB/s eta 0:00:23\r",
      "\u001b[K    9% |███                             | 2.1MB 975kB/s eta 0:00:22\r",
      "\u001b[K    9% |███                             | 2.1MB 972kB/s eta 0:00:22\r",
      "\u001b[K    9% |███                             | 2.1MB 973kB/s eta 0:00:22\r",
      "\u001b[K    9% |███                             | 2.1MB 1.0MB/s eta 0:00:21\r",
      "\u001b[K    9% |███                             | 2.1MB 838kB/s eta 0:00:25\r",
      "\u001b[K    9% |███                             | 2.2MB 1.0MB/s eta 0:00:21\r",
      "\u001b[K    9% |███                             | 2.2MB 1.0MB/s eta 0:00:21\r",
      "\u001b[K    9% |███                             | 2.2MB 881kB/s eta 0:00:24\r",
      "\u001b[K    9% |███                             | 2.2MB 1.0MB/s eta 0:00:21\r",
      "\u001b[K    9% |███                             | 2.2MB 1.0MB/s eta 0:00:20\r",
      "\u001b[K    9% |███                             | 2.2MB 1.0MB/s eta 0:00:20^C\r\n",
      "\r\n",
      "\u001b[31mOperation cancelled by user\u001b[0m\r\n"
     ]
    }
   ],
   "source": [
    "import pandas as pd \n",
    "import matplotlib.pyplot as plt \n",
    "%matplotlib inline"
   ]
  },
  {
   "cell_type": "code",
   "execution_count": 96,
   "metadata": {
    "collapsed": true
   },
   "outputs": [],
   "source": [
    "df = pd.read_csv('train.csv')"
   ]
  },
  {
   "cell_type": "code",
   "execution_count": 97,
   "metadata": {},
   "outputs": [
    {
     "name": "stdout",
     "output_type": "stream",
     "text": [
      "Index(['id', 'comment_text', 'toxic', 'severe_toxic', 'obscene', 'threat',\n",
      "       'insult', 'identity_hate'],\n",
      "      dtype='object')\n"
     ]
    }
   ],
   "source": [
    "print(df.columns)"
   ]
  },
  {
   "cell_type": "code",
   "execution_count": 98,
   "metadata": {},
   "outputs": [],
   "source": [
    "df = df.drop(['id'],axis=1)"
   ]
  },
  {
   "cell_type": "code",
   "execution_count": 99,
   "metadata": {},
   "outputs": [],
   "source": [
    "labels = ['severe_toxic', 'toxic', 'obscene','threat','insult','identity_hate']\n",
    "label_to_percentage_mapping = {}"
   ]
  },
  {
   "cell_type": "code",
   "execution_count": 129,
   "metadata": {},
   "outputs": [
    {
     "name": "stdout",
     "output_type": "stream",
     "text": [
      "159571\n"
     ]
    }
   ],
   "source": [
    "total_count = df.count()['comment_text']\n",
    "print(total_count)"
   ]
  },
  {
   "cell_type": "code",
   "execution_count": null,
   "metadata": {},
   "outputs": [],
   "source": [
    "toxic = df[ df.toxic == 1] \n",
    "severe_toxic = df[ df.severe_toxic == 1] \n",
    "obscene = df[ df.obscene == 1] \n",
    "threat = df[ df.threat == 1] \n",
    "insult = df[ df.insult == 1] \n",
    "identity_hate = df[ df.identity_hate == 1] "
   ]
  },
  {
   "cell_type": "code",
   "execution_count": 130,
   "metadata": {},
   "outputs": [],
   "source": [
    "label_to_percentage_mapping['toxic'] = toxic.count() / total_count\n",
    "label_to_percentage_mapping['severe_toxic'] = severe_toxic.count() / total_count\n",
    "label_to_percentage_mapping['obscene'] = obscene.count() / total_count\n",
    "label_to_percentage_mapping['threat'] = threat.count() / total_count\n",
    "label_to_percentage_mapping['insult'] = insult.count() / total_count\n",
    "label_to_percentage_mapping['identity_hate'] = identity_hate.count() / total_count"
   ]
  },
  {
   "cell_type": "code",
   "execution_count": 136,
   "metadata": {},
   "outputs": [
    {
     "name": "stdout",
     "output_type": "stream",
     "text": [
      "{'severe_toxic': comment_text     0.009996\n",
      "toxic            0.009996\n",
      "severe_toxic     0.009996\n",
      "obscene          0.009996\n",
      "threat           0.009996\n",
      "insult           0.009996\n",
      "identity_hate    0.009996\n",
      "dtype: float64, 'toxic': comment_text     0.095844\n",
      "toxic            0.095844\n",
      "severe_toxic     0.095844\n",
      "obscene          0.095844\n",
      "threat           0.095844\n",
      "insult           0.095844\n",
      "identity_hate    0.095844\n",
      "dtype: float64, 'obscene': comment_text     0.052948\n",
      "toxic            0.052948\n",
      "severe_toxic     0.052948\n",
      "obscene          0.052948\n",
      "threat           0.052948\n",
      "insult           0.052948\n",
      "identity_hate    0.052948\n",
      "dtype: float64, 'threat': comment_text     0.002996\n",
      "toxic            0.002996\n",
      "severe_toxic     0.002996\n",
      "obscene          0.002996\n",
      "threat           0.002996\n",
      "insult           0.002996\n",
      "identity_hate    0.002996\n",
      "dtype: float64, 'insult': comment_text     0.049364\n",
      "toxic            0.049364\n",
      "severe_toxic     0.049364\n",
      "obscene          0.049364\n",
      "threat           0.049364\n",
      "insult           0.049364\n",
      "identity_hate    0.049364\n",
      "dtype: float64, 'identity_hate': comment_text     0.008805\n",
      "toxic            0.008805\n",
      "severe_toxic     0.008805\n",
      "obscene          0.008805\n",
      "threat           0.008805\n",
      "insult           0.008805\n",
      "identity_hate    0.008805\n",
      "dtype: float64, 'clean': 0.19999999999999996}\n"
     ]
    }
   ],
   "source": [
    "print(label_to_percentage_mapping)"
   ]
  },
  {
   "cell_type": "code",
   "execution_count": 135,
   "metadata": {},
   "outputs": [
    {
     "ename": "ValueError",
     "evalue": "setting an array element with a sequence.",
     "output_type": "error",
     "traceback": [
      "\u001b[0;31m---------------------------------------------------------------------------\u001b[0m",
      "\u001b[0;31mValueError\u001b[0m                                Traceback (most recent call last)",
      "\u001b[0;32m<ipython-input-135-0320deb36e65>\u001b[0m in \u001b[0;36m<module>\u001b[0;34m()\u001b[0m\n\u001b[1;32m      1\u001b[0m \u001b[0mplt\u001b[0m\u001b[0;34m.\u001b[0m\u001b[0mfigure\u001b[0m\u001b[0;34m(\u001b[0m\u001b[0mfigsize\u001b[0m\u001b[0;34m=\u001b[0m\u001b[0;34m(\u001b[0m\u001b[0;36m20\u001b[0m\u001b[0;34m,\u001b[0m \u001b[0;36m10\u001b[0m\u001b[0;34m)\u001b[0m\u001b[0;34m)\u001b[0m\u001b[0;34m\u001b[0m\u001b[0m\n\u001b[0;32m----> 2\u001b[0;31m \u001b[0mplt\u001b[0m\u001b[0;34m.\u001b[0m\u001b[0mbar\u001b[0m\u001b[0;34m(\u001b[0m\u001b[0mlabel_to_percentage_mapping\u001b[0m\u001b[0;34m.\u001b[0m\u001b[0mkeys\u001b[0m\u001b[0;34m(\u001b[0m\u001b[0;34m)\u001b[0m\u001b[0;34m,\u001b[0m \u001b[0mlabel_to_percentage_mapping\u001b[0m\u001b[0;34m.\u001b[0m\u001b[0mvalues\u001b[0m\u001b[0;34m(\u001b[0m\u001b[0;34m)\u001b[0m\u001b[0;34m,\u001b[0m \u001b[0malign\u001b[0m\u001b[0;34m=\u001b[0m\u001b[0;34m'edge'\u001b[0m\u001b[0;34m,\u001b[0m \u001b[0mwidth\u001b[0m\u001b[0;34m=\u001b[0m\u001b[0;36m0.3\u001b[0m\u001b[0;34m)\u001b[0m\u001b[0;34m\u001b[0m\u001b[0m\n\u001b[0m",
      "\u001b[0;32m~/anaconda/anaconda3/lib/python3.6/site-packages/matplotlib/pyplot.py\u001b[0m in \u001b[0;36mbar\u001b[0;34m(*args, **kwargs)\u001b[0m\n\u001b[1;32m   2625\u001b[0m                       mplDeprecation)\n\u001b[1;32m   2626\u001b[0m     \u001b[0;32mtry\u001b[0m\u001b[0;34m:\u001b[0m\u001b[0;34m\u001b[0m\u001b[0m\n\u001b[0;32m-> 2627\u001b[0;31m         \u001b[0mret\u001b[0m \u001b[0;34m=\u001b[0m \u001b[0max\u001b[0m\u001b[0;34m.\u001b[0m\u001b[0mbar\u001b[0m\u001b[0;34m(\u001b[0m\u001b[0;34m*\u001b[0m\u001b[0margs\u001b[0m\u001b[0;34m,\u001b[0m \u001b[0;34m**\u001b[0m\u001b[0mkwargs\u001b[0m\u001b[0;34m)\u001b[0m\u001b[0;34m\u001b[0m\u001b[0m\n\u001b[0m\u001b[1;32m   2628\u001b[0m     \u001b[0;32mfinally\u001b[0m\u001b[0;34m:\u001b[0m\u001b[0;34m\u001b[0m\u001b[0m\n\u001b[1;32m   2629\u001b[0m         \u001b[0max\u001b[0m\u001b[0;34m.\u001b[0m\u001b[0m_hold\u001b[0m \u001b[0;34m=\u001b[0m \u001b[0mwashold\u001b[0m\u001b[0;34m\u001b[0m\u001b[0m\n",
      "\u001b[0;32m~/anaconda/anaconda3/lib/python3.6/site-packages/matplotlib/__init__.py\u001b[0m in \u001b[0;36minner\u001b[0;34m(ax, *args, **kwargs)\u001b[0m\n\u001b[1;32m   1708\u001b[0m                     warnings.warn(msg % (label_namer, func.__name__),\n\u001b[1;32m   1709\u001b[0m                                   RuntimeWarning, stacklevel=2)\n\u001b[0;32m-> 1710\u001b[0;31m             \u001b[0;32mreturn\u001b[0m \u001b[0mfunc\u001b[0m\u001b[0;34m(\u001b[0m\u001b[0max\u001b[0m\u001b[0;34m,\u001b[0m \u001b[0;34m*\u001b[0m\u001b[0margs\u001b[0m\u001b[0;34m,\u001b[0m \u001b[0;34m**\u001b[0m\u001b[0mkwargs\u001b[0m\u001b[0;34m)\u001b[0m\u001b[0;34m\u001b[0m\u001b[0m\n\u001b[0m\u001b[1;32m   1711\u001b[0m         \u001b[0mpre_doc\u001b[0m \u001b[0;34m=\u001b[0m \u001b[0minner\u001b[0m\u001b[0;34m.\u001b[0m\u001b[0m__doc__\u001b[0m\u001b[0;34m\u001b[0m\u001b[0m\n\u001b[1;32m   1712\u001b[0m         \u001b[0;32mif\u001b[0m \u001b[0mpre_doc\u001b[0m \u001b[0;32mis\u001b[0m \u001b[0;32mNone\u001b[0m\u001b[0;34m:\u001b[0m\u001b[0;34m\u001b[0m\u001b[0m\n",
      "\u001b[0;32m~/anaconda/anaconda3/lib/python3.6/site-packages/matplotlib/axes/_axes.py\u001b[0m in \u001b[0;36mbar\u001b[0;34m(self, *args, **kwargs)\u001b[0m\n\u001b[1;32m   2154\u001b[0m             \u001b[0;32melif\u001b[0m \u001b[0morientation\u001b[0m \u001b[0;34m==\u001b[0m \u001b[0;34m'horizontal'\u001b[0m\u001b[0;34m:\u001b[0m\u001b[0;34m\u001b[0m\u001b[0m\n\u001b[1;32m   2155\u001b[0m                 \u001b[0mr\u001b[0m\u001b[0;34m.\u001b[0m\u001b[0msticky_edges\u001b[0m\u001b[0;34m.\u001b[0m\u001b[0mx\u001b[0m\u001b[0;34m.\u001b[0m\u001b[0mappend\u001b[0m\u001b[0;34m(\u001b[0m\u001b[0ml\u001b[0m\u001b[0;34m)\u001b[0m\u001b[0;34m\u001b[0m\u001b[0m\n\u001b[0;32m-> 2156\u001b[0;31m             \u001b[0mself\u001b[0m\u001b[0;34m.\u001b[0m\u001b[0madd_patch\u001b[0m\u001b[0;34m(\u001b[0m\u001b[0mr\u001b[0m\u001b[0;34m)\u001b[0m\u001b[0;34m\u001b[0m\u001b[0m\n\u001b[0m\u001b[1;32m   2157\u001b[0m             \u001b[0mpatches\u001b[0m\u001b[0;34m.\u001b[0m\u001b[0mappend\u001b[0m\u001b[0;34m(\u001b[0m\u001b[0mr\u001b[0m\u001b[0;34m)\u001b[0m\u001b[0;34m\u001b[0m\u001b[0m\n\u001b[1;32m   2158\u001b[0m \u001b[0;34m\u001b[0m\u001b[0m\n",
      "\u001b[0;32m~/anaconda/anaconda3/lib/python3.6/site-packages/matplotlib/axes/_base.py\u001b[0m in \u001b[0;36madd_patch\u001b[0;34m(self, p)\u001b[0m\n\u001b[1;32m   1832\u001b[0m         \u001b[0;32mif\u001b[0m \u001b[0mp\u001b[0m\u001b[0;34m.\u001b[0m\u001b[0mget_clip_path\u001b[0m\u001b[0;34m(\u001b[0m\u001b[0;34m)\u001b[0m \u001b[0;32mis\u001b[0m \u001b[0;32mNone\u001b[0m\u001b[0;34m:\u001b[0m\u001b[0;34m\u001b[0m\u001b[0m\n\u001b[1;32m   1833\u001b[0m             \u001b[0mp\u001b[0m\u001b[0;34m.\u001b[0m\u001b[0mset_clip_path\u001b[0m\u001b[0;34m(\u001b[0m\u001b[0mself\u001b[0m\u001b[0;34m.\u001b[0m\u001b[0mpatch\u001b[0m\u001b[0;34m)\u001b[0m\u001b[0;34m\u001b[0m\u001b[0m\n\u001b[0;32m-> 1834\u001b[0;31m         \u001b[0mself\u001b[0m\u001b[0;34m.\u001b[0m\u001b[0m_update_patch_limits\u001b[0m\u001b[0;34m(\u001b[0m\u001b[0mp\u001b[0m\u001b[0;34m)\u001b[0m\u001b[0;34m\u001b[0m\u001b[0m\n\u001b[0m\u001b[1;32m   1835\u001b[0m         \u001b[0mself\u001b[0m\u001b[0;34m.\u001b[0m\u001b[0mpatches\u001b[0m\u001b[0;34m.\u001b[0m\u001b[0mappend\u001b[0m\u001b[0;34m(\u001b[0m\u001b[0mp\u001b[0m\u001b[0;34m)\u001b[0m\u001b[0;34m\u001b[0m\u001b[0m\n\u001b[1;32m   1836\u001b[0m         \u001b[0mp\u001b[0m\u001b[0;34m.\u001b[0m\u001b[0m_remove_method\u001b[0m \u001b[0;34m=\u001b[0m \u001b[0;32mlambda\u001b[0m \u001b[0mh\u001b[0m\u001b[0;34m:\u001b[0m \u001b[0mself\u001b[0m\u001b[0;34m.\u001b[0m\u001b[0mpatches\u001b[0m\u001b[0;34m.\u001b[0m\u001b[0mremove\u001b[0m\u001b[0;34m(\u001b[0m\u001b[0mh\u001b[0m\u001b[0;34m)\u001b[0m\u001b[0;34m\u001b[0m\u001b[0m\n",
      "\u001b[0;32m~/anaconda/anaconda3/lib/python3.6/site-packages/matplotlib/axes/_base.py\u001b[0m in \u001b[0;36m_update_patch_limits\u001b[0;34m(self, patch)\u001b[0m\n\u001b[1;32m   1852\u001b[0m         \u001b[0mvertices\u001b[0m \u001b[0;34m=\u001b[0m \u001b[0mpatch\u001b[0m\u001b[0;34m.\u001b[0m\u001b[0mget_path\u001b[0m\u001b[0;34m(\u001b[0m\u001b[0;34m)\u001b[0m\u001b[0;34m.\u001b[0m\u001b[0mvertices\u001b[0m\u001b[0;34m\u001b[0m\u001b[0m\n\u001b[1;32m   1853\u001b[0m         \u001b[0;32mif\u001b[0m \u001b[0mvertices\u001b[0m\u001b[0;34m.\u001b[0m\u001b[0msize\u001b[0m \u001b[0;34m>\u001b[0m \u001b[0;36m0\u001b[0m\u001b[0;34m:\u001b[0m\u001b[0;34m\u001b[0m\u001b[0m\n\u001b[0;32m-> 1854\u001b[0;31m             \u001b[0mxys\u001b[0m \u001b[0;34m=\u001b[0m \u001b[0mpatch\u001b[0m\u001b[0;34m.\u001b[0m\u001b[0mget_patch_transform\u001b[0m\u001b[0;34m(\u001b[0m\u001b[0;34m)\u001b[0m\u001b[0;34m.\u001b[0m\u001b[0mtransform\u001b[0m\u001b[0;34m(\u001b[0m\u001b[0mvertices\u001b[0m\u001b[0;34m)\u001b[0m\u001b[0;34m\u001b[0m\u001b[0m\n\u001b[0m\u001b[1;32m   1855\u001b[0m             \u001b[0;32mif\u001b[0m \u001b[0mpatch\u001b[0m\u001b[0;34m.\u001b[0m\u001b[0mget_data_transform\u001b[0m\u001b[0;34m(\u001b[0m\u001b[0;34m)\u001b[0m \u001b[0;34m!=\u001b[0m \u001b[0mself\u001b[0m\u001b[0;34m.\u001b[0m\u001b[0mtransData\u001b[0m\u001b[0;34m:\u001b[0m\u001b[0;34m\u001b[0m\u001b[0m\n\u001b[1;32m   1856\u001b[0m                 patch_to_data = (patch.get_data_transform() -\n",
      "\u001b[0;32m~/anaconda/anaconda3/lib/python3.6/site-packages/matplotlib/patches.py\u001b[0m in \u001b[0;36mget_patch_transform\u001b[0;34m(self)\u001b[0m\n\u001b[1;32m    720\u001b[0m \u001b[0;34m\u001b[0m\u001b[0m\n\u001b[1;32m    721\u001b[0m     \u001b[0;32mdef\u001b[0m \u001b[0mget_patch_transform\u001b[0m\u001b[0;34m(\u001b[0m\u001b[0mself\u001b[0m\u001b[0;34m)\u001b[0m\u001b[0;34m:\u001b[0m\u001b[0;34m\u001b[0m\u001b[0m\n\u001b[0;32m--> 722\u001b[0;31m         \u001b[0mself\u001b[0m\u001b[0;34m.\u001b[0m\u001b[0m_update_patch_transform\u001b[0m\u001b[0;34m(\u001b[0m\u001b[0;34m)\u001b[0m\u001b[0;34m\u001b[0m\u001b[0m\n\u001b[0m\u001b[1;32m    723\u001b[0m         \u001b[0;32mreturn\u001b[0m \u001b[0mself\u001b[0m\u001b[0;34m.\u001b[0m\u001b[0m_rect_transform\u001b[0m\u001b[0;34m\u001b[0m\u001b[0m\n\u001b[1;32m    724\u001b[0m \u001b[0;34m\u001b[0m\u001b[0m\n",
      "\u001b[0;32m~/anaconda/anaconda3/lib/python3.6/site-packages/matplotlib/patches.py\u001b[0m in \u001b[0;36m_update_patch_transform\u001b[0;34m(self)\u001b[0m\n\u001b[1;32m    713\u001b[0m         \u001b[0mwidth\u001b[0m \u001b[0;34m=\u001b[0m \u001b[0mself\u001b[0m\u001b[0;34m.\u001b[0m\u001b[0mconvert_xunits\u001b[0m\u001b[0;34m(\u001b[0m\u001b[0mself\u001b[0m\u001b[0;34m.\u001b[0m\u001b[0m_width\u001b[0m\u001b[0;34m)\u001b[0m\u001b[0;34m\u001b[0m\u001b[0m\n\u001b[1;32m    714\u001b[0m         \u001b[0mheight\u001b[0m \u001b[0;34m=\u001b[0m \u001b[0mself\u001b[0m\u001b[0;34m.\u001b[0m\u001b[0mconvert_yunits\u001b[0m\u001b[0;34m(\u001b[0m\u001b[0mself\u001b[0m\u001b[0;34m.\u001b[0m\u001b[0m_height\u001b[0m\u001b[0;34m)\u001b[0m\u001b[0;34m\u001b[0m\u001b[0m\n\u001b[0;32m--> 715\u001b[0;31m         \u001b[0mbbox\u001b[0m \u001b[0;34m=\u001b[0m \u001b[0mtransforms\u001b[0m\u001b[0;34m.\u001b[0m\u001b[0mBbox\u001b[0m\u001b[0;34m.\u001b[0m\u001b[0mfrom_bounds\u001b[0m\u001b[0;34m(\u001b[0m\u001b[0mx\u001b[0m\u001b[0;34m,\u001b[0m \u001b[0my\u001b[0m\u001b[0;34m,\u001b[0m \u001b[0mwidth\u001b[0m\u001b[0;34m,\u001b[0m \u001b[0mheight\u001b[0m\u001b[0;34m)\u001b[0m\u001b[0;34m\u001b[0m\u001b[0m\n\u001b[0m\u001b[1;32m    716\u001b[0m         \u001b[0mrot_trans\u001b[0m \u001b[0;34m=\u001b[0m \u001b[0mtransforms\u001b[0m\u001b[0;34m.\u001b[0m\u001b[0mAffine2D\u001b[0m\u001b[0;34m(\u001b[0m\u001b[0;34m)\u001b[0m\u001b[0;34m\u001b[0m\u001b[0m\n\u001b[1;32m    717\u001b[0m         \u001b[0mrot_trans\u001b[0m\u001b[0;34m.\u001b[0m\u001b[0mrotate_deg_around\u001b[0m\u001b[0;34m(\u001b[0m\u001b[0mx\u001b[0m\u001b[0;34m,\u001b[0m \u001b[0my\u001b[0m\u001b[0;34m,\u001b[0m \u001b[0mself\u001b[0m\u001b[0;34m.\u001b[0m\u001b[0mangle\u001b[0m\u001b[0;34m)\u001b[0m\u001b[0;34m\u001b[0m\u001b[0m\n",
      "\u001b[0;32m~/anaconda/anaconda3/lib/python3.6/site-packages/matplotlib/transforms.py\u001b[0m in \u001b[0;36mfrom_bounds\u001b[0;34m(x0, y0, width, height)\u001b[0m\n\u001b[1;32m    802\u001b[0m         \u001b[0;34m*\u001b[0m\u001b[0mwidth\u001b[0m\u001b[0;34m*\u001b[0m \u001b[0;32mand\u001b[0m \u001b[0;34m*\u001b[0m\u001b[0mheight\u001b[0m\u001b[0;34m*\u001b[0m \u001b[0mmay\u001b[0m \u001b[0mbe\u001b[0m \u001b[0mnegative\u001b[0m\u001b[0;34m.\u001b[0m\u001b[0;34m\u001b[0m\u001b[0m\n\u001b[1;32m    803\u001b[0m         \"\"\"\n\u001b[0;32m--> 804\u001b[0;31m         \u001b[0;32mreturn\u001b[0m \u001b[0mBbox\u001b[0m\u001b[0;34m.\u001b[0m\u001b[0mfrom_extents\u001b[0m\u001b[0;34m(\u001b[0m\u001b[0mx0\u001b[0m\u001b[0;34m,\u001b[0m \u001b[0my0\u001b[0m\u001b[0;34m,\u001b[0m \u001b[0mx0\u001b[0m \u001b[0;34m+\u001b[0m \u001b[0mwidth\u001b[0m\u001b[0;34m,\u001b[0m \u001b[0my0\u001b[0m \u001b[0;34m+\u001b[0m \u001b[0mheight\u001b[0m\u001b[0;34m)\u001b[0m\u001b[0;34m\u001b[0m\u001b[0m\n\u001b[0m\u001b[1;32m    805\u001b[0m \u001b[0;34m\u001b[0m\u001b[0m\n\u001b[1;32m    806\u001b[0m     \u001b[0;34m@\u001b[0m\u001b[0mstaticmethod\u001b[0m\u001b[0;34m\u001b[0m\u001b[0m\n",
      "\u001b[0;32m~/anaconda/anaconda3/lib/python3.6/site-packages/matplotlib/transforms.py\u001b[0m in \u001b[0;36mfrom_extents\u001b[0;34m(*args)\u001b[0m\n\u001b[1;32m    812\u001b[0m         \u001b[0mThe\u001b[0m \u001b[0;34m*\u001b[0m\u001b[0my\u001b[0m\u001b[0;34m*\u001b[0m\u001b[0;34m-\u001b[0m\u001b[0maxis\u001b[0m \u001b[0mincreases\u001b[0m \u001b[0mupwards\u001b[0m\u001b[0;34m.\u001b[0m\u001b[0;34m\u001b[0m\u001b[0m\n\u001b[1;32m    813\u001b[0m         \"\"\"\n\u001b[0;32m--> 814\u001b[0;31m         \u001b[0mpoints\u001b[0m \u001b[0;34m=\u001b[0m \u001b[0mnp\u001b[0m\u001b[0;34m.\u001b[0m\u001b[0marray\u001b[0m\u001b[0;34m(\u001b[0m\u001b[0margs\u001b[0m\u001b[0;34m,\u001b[0m \u001b[0mdtype\u001b[0m\u001b[0;34m=\u001b[0m\u001b[0mfloat\u001b[0m\u001b[0;34m)\u001b[0m\u001b[0;34m.\u001b[0m\u001b[0mreshape\u001b[0m\u001b[0;34m(\u001b[0m\u001b[0;36m2\u001b[0m\u001b[0;34m,\u001b[0m \u001b[0;36m2\u001b[0m\u001b[0;34m)\u001b[0m\u001b[0;34m\u001b[0m\u001b[0m\n\u001b[0m\u001b[1;32m    815\u001b[0m         \u001b[0;32mreturn\u001b[0m \u001b[0mBbox\u001b[0m\u001b[0;34m(\u001b[0m\u001b[0mpoints\u001b[0m\u001b[0;34m)\u001b[0m\u001b[0;34m\u001b[0m\u001b[0m\n\u001b[1;32m    816\u001b[0m \u001b[0;34m\u001b[0m\u001b[0m\n",
      "\u001b[0;31mValueError\u001b[0m: setting an array element with a sequence."
     ]
    },
    {
     "data": {
      "image/png": "[encoded data removed]",
      "text/plain": [
       "<matplotlib.figure.Figure at 0x12433f400>"
      ]
     },
     "metadata": {},
     "output_type": "display_data"
    }
   ],
   "source": [
    "plt.figure(figsize=(20, 10))  \n",
    "plt.bar(label_to_percentage_mapping.keys(), label_to_percentage_mapping.values(), align='edge', width=0.3)"
   ]
  },
  {
   "cell_type": "code",
   "execution_count": 127,
   "metadata": {},
   "outputs": [],
   "source": []
  },
  {
   "cell_type": "code",
   "execution_count": 128,
   "metadata": {},
   "outputs": [
    {
     "name": "stdout",
     "output_type": "stream",
     "text": [
      "comment_text     15294\n",
      "toxic            15294\n",
      "severe_toxic     15294\n",
      "obscene          15294\n",
      "threat           15294\n",
      "insult           15294\n",
      "identity_hate    15294\n",
      "dtype: int64\n",
      "comment_text     1595\n",
      "toxic            1595\n",
      "severe_toxic     1595\n",
      "obscene          1595\n",
      "threat           1595\n",
      "insult           1595\n",
      "identity_hate    1595\n",
      "dtype: int64\n",
      "comment_text     8449\n",
      "toxic            8449\n",
      "severe_toxic     8449\n",
      "obscene          8449\n",
      "threat           8449\n",
      "insult           8449\n",
      "identity_hate    8449\n",
      "dtype: int64\n",
      "comment_text     478\n",
      "toxic            478\n",
      "severe_toxic     478\n",
      "obscene          478\n",
      "threat           478\n",
      "insult           478\n",
      "identity_hate    478\n",
      "dtype: int64\n",
      "comment_text     7877\n",
      "toxic            7877\n",
      "severe_toxic     7877\n",
      "obscene          7877\n",
      "threat           7877\n",
      "insult           7877\n",
      "identity_hate    7877\n",
      "dtype: int64\n",
      "comment_text     1405\n",
      "toxic            1405\n",
      "severe_toxic     1405\n",
      "obscene          1405\n",
      "threat           1405\n",
      "insult           1405\n",
      "identity_hate    1405\n",
      "dtype: int64\n"
     ]
    }
   ],
   "source": [
    "print(toxic.count())\n",
    "print(severe_toxic.count())\n",
    "print(obscene.count())\n",
    "print(threat.count())\n",
    "print(insult.count())\n",
    "print(identity_hate.count())"
   ]
  },
  {
   "cell_type": "code",
   "execution_count": 115,
   "metadata": {},
   "outputs": [
    {
     "name": "stdout",
     "output_type": "stream",
     "text": [
      "       comment_text  toxic severe_toxic obscene threat insult identity_hate\n",
      "count         15294  15294        15294   15294  15294  15294         15294\n",
      "unique            1      1            2       2      2      2             2\n",
      "top           False  False         True   False   True   True          True\n",
      "freq          15294  15294        13699    7926  14845   7950         13992\n"
     ]
    }
   ],
   "source": [
    "print(clean.describe())"
   ]
  },
  {
   "cell_type": "code",
   "execution_count": null,
   "metadata": {},
   "outputs": [],
   "source": []
  }
 ],
 "metadata": {
  "kernelspec": {
   "display_name": "Python 3",
   "language": "python",
   "name": "python3"
  },
  "language_info": {
   "codemirror_mode": {
    "name": "ipython",
    "version": 3
   },
   "file_extension": ".py",
   "mimetype": "text/x-python",
   "name": "python",
   "nbconvert_exporter": "python",
   "pygments_lexer": "ipython3",
   "version": "3.6.2"
  }
 },
 "nbformat": 4,
 "nbformat_minor": 2
}
