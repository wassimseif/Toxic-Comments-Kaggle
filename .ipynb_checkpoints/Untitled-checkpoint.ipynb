{
 "cells": [
  {
   "cell_type": "code",
   "execution_count": 74,
   "metadata": {
    "collapsed": true
   },
   "outputs": [],
   "source": [
    "import pandas as pd \n",
    "import matplotlib.pyplot as plt \n",
    "%matplotlib inline"
   ]
  },
  {
   "cell_type": "code",
   "execution_count": 9,
   "metadata": {
    "collapsed": true
   },
   "outputs": [],
   "source": [
    "df = pd.read_csv('train.csv')"
   ]
  },
  {
   "cell_type": "code",
   "execution_count": 11,
   "metadata": {},
   "outputs": [
    {
     "name": "stdout",
     "output_type": "stream",
     "text": [
      "Index(['id', 'comment_text', 'toxic', 'severe_toxic', 'obscene', 'threat',\n",
      "       'insult', 'identity_hate'],\n",
      "      dtype='object')\n"
     ]
    }
   ],
   "source": [
    "print(df.columns)"
   ]
  },
  {
   "cell_type": "code",
   "execution_count": 12,
   "metadata": {},
   "outputs": [],
   "source": [
    "df = df.drop(['id'],axis=1)"
   ]
  },
  {
   "cell_type": "code",
   "execution_count": 49,
   "metadata": {},
   "outputs": [],
   "source": [
    "labels = ['severe_toxic', 'toxic', 'obscene','threat','insult','identity_hate']\n",
    "label_to_percentage_mapping = {}"
   ]
  },
  {
   "cell_type": "code",
   "execution_count": 50,
   "metadata": {},
   "outputs": [
    {
     "name": "stdout",
     "output_type": "stream",
     "text": [
      "159571\n"
     ]
    }
   ],
   "source": [
    "total_count = df.count()['comment_text']\n",
    "print(total_count)"
   ]
  },
  {
   "cell_type": "code",
   "execution_count": 91,
   "metadata": {},
   "outputs": [
    {
     "name": "stdout",
     "output_type": "stream",
     "text": [
      "=====================================\n",
      "Analyzing severe_toxic\n",
      "1595\n",
      "Finised Analyzing severe_toxic\n",
      "=====================================\n",
      "Analyzing toxic\n",
      "15294\n",
      "Finised Analyzing toxic\n",
      "=====================================\n",
      "Analyzing obscene\n",
      "8449\n",
      "Finised Analyzing obscene\n",
      "=====================================\n",
      "Analyzing threat\n",
      "478\n",
      "Finised Analyzing threat\n",
      "=====================================\n",
      "Analyzing insult\n",
      "7877\n",
      "Finised Analyzing insult\n",
      "=====================================\n",
      "Analyzing identity_hate\n",
      "1405\n",
      "Finised Analyzing identity_hate\n"
     ]
    }
   ],
   "source": [
    "for label in labels : \n",
    "    print('=====================================')\n",
    "    print('Analyzing {}'.format(label))\n",
    "    count = df[df[label] == 1].count()[label] \n",
    "    print(count)\n",
    "    label_to_percentage_mapping[label] = count / total_count\n",
    "    print('Finised Analyzing {}'.format(label))"
   ]
  },
  {
   "cell_type": "code",
   "execution_count": 92,
   "metadata": {},
   "outputs": [
    {
     "name": "stdout",
     "output_type": "stream",
     "text": [
      "0.219952246962\n"
     ]
    }
   ],
   "source": [
    "sum = 0 \n",
    "for key, value in label_to_percentage_mapping.items():\n",
    "    sum += value \n",
    "print(sum)"
   ]
  },
  {
   "cell_type": "code",
   "execution_count": 93,
   "metadata": {},
   "outputs": [],
   "source": [
    "label_to_percentage_mapping['clean'] = 1 - sum"
   ]
  },
  {
   "cell_type": "code",
   "execution_count": 95,
   "metadata": {},
   "outputs": [
    {
     "data": {
      "text/plain": [
       "<Container object of 7 artists>"
      ]
     },
     "execution_count": 95,
     "metadata": {},
     "output_type": "execute_result"
    },
    {
     "data": {
      "image/png": "[encoded data removed]",
      "text/plain": [
       "<matplotlib.figure.Figure at 0x10ddaa6a0>"
      ]
     },
     "metadata": {},
     "output_type": "display_data"
    }
   ],
   "source": [
    "plt.figure(figsize=(20, 10))  \n",
    "plt.bar(label_to_percentage_mapping.keys(), label_to_percentage_mapping.values(), align='edge', width=0.3)"
   ]
  },
  {
   "cell_type": "code",
   "execution_count": null,
   "metadata": {},
   "outputs": [],
   "source": [
    "toxic_comments = "
   ]
  }
 ],
 "metadata": {
  "kernelspec": {
   "display_name": "Python [default]",
   "language": "python",
   "name": "python3"
  },
  "language_info": {
   "codemirror_mode": {
    "name": "ipython",
    "version": 3
   },
   "file_extension": ".py",
   "mimetype": "text/x-python",
   "name": "python",
   "nbconvert_exporter": "python",
   "pygments_lexer": "ipython3",
   "version": "3.6.3"
  }
 },
 "nbformat": 4,
 "nbformat_minor": 2
}
